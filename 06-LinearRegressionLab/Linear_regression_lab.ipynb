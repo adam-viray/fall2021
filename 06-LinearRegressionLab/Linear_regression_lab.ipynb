{
 "cells": [
  {
   "cell_type": "markdown",
   "metadata": {},
   "source": [
    "# Linear Regression Lab - 09/16\n",
    "\n",
    "## As in previous exercises, please generate a document with all group member names, complete the tasks below, and submit this on Moodle.  Due 09/21.\n"
   ]
  },
  {
   "cell_type": "markdown",
   "metadata": {},
   "source": [
    "<img src=\"cricket.jpg\" width=30%>\n",
    "For centuries, it's been understood that the frequency of cricket chirps increases as temperature increases.  In this problem, you will determine the functional relationship between these two variables such that cricket chirps can be used as a thermometer. \n",
    "\n",
    "To begin, import the data file cricket.txt.  The first column is the temperature in degrees C, while the second column is the number of cricket chirps per 15 seconds.  Using scikit-learn's model selection tools, we can split the data into a training set, which will be used to train the model, and a test set, which will be used to validate the model's performance on data that was *not* used to train it.  "
   ]
  },
  {
   "cell_type": "code",
   "execution_count": 6,
   "metadata": {},
   "outputs": [],
   "source": [
    "import numpy as np\n",
    "data = np.loadtxt('crickets.txt')\n",
    "data = (data-np.mean(data))/np.std(data)\n",
    "\n",
    "from sklearn.model_selection import train_test_split\n",
    "X_train, X_test, Y_train, Y_test = train_test_split(data[:,0], data[:,1], test_size=0.5, random_state=42)"
   ]
  },
  {
   "cell_type": "markdown",
   "metadata": {},
   "source": [
    "### 1. Ordinary Least Squares (20)\n",
    "Your first task is to define a function that will fit a polynomial of arbitrary degree to the data, subject to Tikhonov regularization.  To do this you will have to generate the Design matrix $\\Phi(X_{obs})$, and solve the normal equations \n",
    "$$\n",
    "(\\Phi^T \\Phi + \\lambda \\mathcal{I}) \\mathbf{w} = \\phi^T Y_{obs},\n",
    "$$\n",
    "where $\\mathbf{w}$ is the vector of polynomial coefficients.  Plot the data with the best-fitting polynomial of degree 1 (a line) overlain.  A handy fact is that if you would like to evaluate this model at some location (or set of locations) $X_{pred}$, the corresponding *prediction* $Y_{pred}$ is given by \n",
    "$$\n",
    "Y_{pred} = \\underbrace{\\Phi(X_{pred})}_{m\\times n} \\underbrace{\\mathbf{w}}_{n\\times 1}.\n",
    "$$\n",
    "As such, it might be helpful to define a function that computes $\\Phi(X)$ outside of fit\\_polynomial.  "
   ]
  },
  {
   "cell_type": "code",
   "execution_count": 29,
   "metadata": {},
   "outputs": [],
   "source": [
    "def phi(X,d):\n",
    "    n = len(X)\n",
    "    phi = np.ones((n,d+1))\n",
    "    for i in range(1,d+1):\n",
    "        phi[:,i] = X**i\n",
    "    return phi\n",
    "\n",
    "def fit_polynomial(X,Y,d,lamda=0):\n",
    "    \"\"\"  Find the ordinary least squares fit of an independent \n",
    "        variable X to a dependent variable y\"\"\"\n",
    "    n = len(X)\n",
    "    \n",
    "    Phi = phi(X,d)\n",
    "    w = np.linalg.inv(Phi.T@Phi+lamda*np.identity(d+1))@(Phi.T@Y)\n",
    "      \n",
    "    return w\n",
    "\n",
    "w_line = fit_polynomial(X_train,Y_train,1)\n",
    "\n"
   ]
  },
  {
   "cell_type": "code",
   "execution_count": 30,
   "metadata": {},
   "outputs": [],
   "source": [
    "def predict(X,d,w):\n",
    "    return phi(X,d)@w"
   ]
  },
  {
   "cell_type": "code",
   "execution_count": 31,
   "metadata": {},
   "outputs": [
    {
     "data": {
      "text/plain": [
       "0.5357949702124922"
      ]
     },
     "execution_count": 31,
     "metadata": {},
     "output_type": "execute_result"
    }
   ],
   "source": [
    "np.linalg.norm(Y_test-predict(X_test,1,w_line))"
   ]
  },
  {
   "cell_type": "markdown",
   "metadata": {},
   "source": [
    "### 2. Overfitting (20)\n",
    "With the above function in hand, now we will explore the effect of fitting higher degree polynomials to the data.  Fit the training data using polynomials from degree 1 to 15, without regularization (i.e. $\\lambda=0$).  For each of these fits, record the resulting root mean square error \n",
    "$$\n",
    "RMSE = \\sqrt{\\sum_{i=1}^m (Y_{pred,i} - Y_{obs,i})^2}\n",
    "$$\n",
    "\n",
    "in both the training and test data.  Plot both of these RMSE values as a function of polynomial degree (Using a logarithmic scale for RMSE is helpful).  **In the lab document that you submit, describe the pattern that you see, and explain the reason behind the different behavior between the two curves.**  "
   ]
  },
  {
   "cell_type": "code",
   "execution_count": 32,
   "metadata": {},
   "outputs": [
    {
     "name": "stdout",
     "output_type": "stream",
     "text": [
      "(15,)\n"
     ]
    },
    {
     "data": {
      "image/png": "[encoded data removed]",
      "text/plain": [
       "<Figure size 432x288 with 1 Axes>"
      ]
     },
     "metadata": {
      "needs_background": "light"
     },
     "output_type": "display_data"
    }
   ],
   "source": [
    "import matplotlib.pyplot as plt\n",
    "train_rmse = np.empty(15)\n",
    "test_rmse = np.empty(15)\n",
    "degrees = np.linspace(1,15,15).astype(int)\n",
    "for d in degrees:\n",
    "    #! Use the function you generated above to fit \n",
    "    #! a polynomial of degree d to the cricket data\n",
    " \n",
    "    #! Compute and record RMSE for both the training and\n",
    "    #! test sets.  IMPORTANT: Don't fit a new set of \n",
    "    #! weights to the test set!!!\n",
    "    w = fit_polynomial(X_train,Y_train,d)\n",
    "    train_rmse[d-1] = np.linalg.norm(Y_train-predict(X_train,d,w))\n",
    "    test_rmse[d-1] = np.linalg.norm(Y_test-predict(X_test,d,w))\n",
    "\n",
    "print(np.shape(train_rmse))\n",
    "plt.semilogy(degrees,train_rmse,c='k')\n",
    "plt.semilogy(degrees,test_rmse)\n",
    "plt.show()"
   ]
  },
  {
   "cell_type": "markdown",
   "metadata": {},
   "source": [
    "### 3. Regularization(*) (20)\n",
    "Fix the polynomial degree at 15, and now fit the training data for regularization parameter $\\lambda \\in [10^{-9},10^2]$ (you'll want to distribute these points in log-space; see below).  As above, compute the RMSE in the training and test sets, and plot as a function of $\\lambda$.  **In the lab document that you submit, describe the pattern that you see, and explain the reason behind the different behavior between the two curves.**  "
   ]
  },
  {
   "cell_type": "code",
   "execution_count": 37,
   "metadata": {},
   "outputs": [
    {
     "data": {
      "image/png": "[encoded data removed]",
      "text/plain": [
       "<Figure size 432x288 with 1 Axes>"
      ]
     },
     "metadata": {
      "needs_background": "light"
     },
     "output_type": "display_data"
    }
   ],
   "source": [
    "lamdas = np.logspace(-9,2,12)\n",
    "l = len(lamdas)\n",
    "train_rmse = np.empty(l)\n",
    "test_rmse = np.empty(l)\n",
    "d = 15\n",
    "for i,lamda in enumerate(lamdas):\n",
    "    #! Use the function you generated above to fit \n",
    "    #! a polynomial of degree 15 to the cricket data\n",
    "    #! with varying lambda \n",
    "    \n",
    "    #! Compute and record RMSE for both the training and\n",
    "    #! test sets.  IMPORTANT: Don't fit a new set of \n",
    "    #! weights to the test set!!!\n",
    "    w = fit_polynomial(X_train,Y_train,d,lamda)\n",
    "    train_rmse[i] = np.linalg.norm(Y_train-predict(X_train,d,w))\n",
    "    test_rmse[i] = np.linalg.norm(Y_test-predict(X_test,d,w))\n",
    "\n",
    "y1, = plt.loglog(lamdas,train_rmse)\n",
    "y2, = plt.loglog(lamdas,test_rmse)\n",
    "plt.legend([y1,y2],['train','test'])\n",
    "plt.show()"
   ]
  },
  {
   "cell_type": "code",
   "execution_count": null,
   "metadata": {},
   "outputs": [],
   "source": []
  }
 ],
 "metadata": {
  "kernelspec": {
   "display_name": "Python 3 (ipykernel)",
   "language": "python",
   "name": "python3"
  },
  "language_info": {
   "codemirror_mode": {
    "name": "ipython",
    "version": 3
   },
   "file_extension": ".py",
   "mimetype": "text/x-python",
   "name": "python",
   "nbconvert_exporter": "python",
   "pygments_lexer": "ipython3",
   "version": "3.8.11"
  }
 },
 "nbformat": 4,
 "nbformat_minor": 2
}
